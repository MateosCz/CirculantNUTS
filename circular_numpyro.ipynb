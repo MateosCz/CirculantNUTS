{
 "cells": [
  {
   "cell_type": "code",
   "execution_count": 1,
   "metadata": {
    "colab": {
     "base_uri": "https://localhost:8080/"
    },
    "id": "5ki5fKrZBuNL",
    "outputId": "69eae75e-bc10-4509-8eea-d677361f355d",
    "tags": [],
    "ExecuteTime": {
     "end_time": "2023-06-18T11:41:48.920964046Z",
     "start_time": "2023-06-18T11:41:44.959107870Z"
    }
   },
   "outputs": [
    {
     "name": "stdout",
     "output_type": "stream",
     "text": [
      "/bin/bash: warning: setlocale: LC_ALL: cannot change locale (en_US.UTF-8)\r\n",
      "Requirement already satisfied: numpyro in /home/zjccharles/anaconda3/envs/jax/lib/python3.9/site-packages (0.12.1)\r\n",
      "Requirement already satisfied: jax>=0.4.7 in /home/zjccharles/anaconda3/envs/jax/lib/python3.9/site-packages (from numpyro) (0.4.12)\r\n",
      "Requirement already satisfied: jaxlib>=0.4.7 in /home/zjccharles/anaconda3/envs/jax/lib/python3.9/site-packages (from numpyro) (0.4.12+cuda12.cudnn89)\r\n",
      "Requirement already satisfied: multipledispatch in /home/zjccharles/anaconda3/envs/jax/lib/python3.9/site-packages (from numpyro) (0.6.0)\r\n",
      "Requirement already satisfied: numpy in /home/zjccharles/anaconda3/envs/jax/lib/python3.9/site-packages (from numpyro) (1.24.1)\r\n",
      "Requirement already satisfied: tqdm in /home/zjccharles/anaconda3/envs/jax/lib/python3.9/site-packages (from numpyro) (4.65.0)\r\n",
      "Requirement already satisfied: ml-dtypes>=0.1.0 in /home/zjccharles/anaconda3/envs/jax/lib/python3.9/site-packages (from jax>=0.4.7->numpyro) (0.2.0)\r\n",
      "Requirement already satisfied: opt-einsum in /home/zjccharles/anaconda3/envs/jax/lib/python3.9/site-packages (from jax>=0.4.7->numpyro) (3.3.0)\r\n",
      "Requirement already satisfied: scipy>=1.7 in /home/zjccharles/anaconda3/envs/jax/lib/python3.9/site-packages (from jax>=0.4.7->numpyro) (1.10.1)\r\n",
      "Requirement already satisfied: importlib-metadata>=4.6 in /home/zjccharles/anaconda3/envs/jax/lib/python3.9/site-packages (from jax>=0.4.7->numpyro) (6.0.0)\r\n",
      "Requirement already satisfied: six in /home/zjccharles/anaconda3/envs/jax/lib/python3.9/site-packages (from multipledispatch->numpyro) (1.16.0)\r\n",
      "Requirement already satisfied: zipp>=0.5 in /home/zjccharles/anaconda3/envs/jax/lib/python3.9/site-packages (from importlib-metadata>=4.6->jax>=0.4.7->numpyro) (3.11.0)\r\n",
      "/bin/bash: warning: setlocale: LC_ALL: cannot change locale (en_US.UTF-8)\r\n",
      "None\n"
     ]
    }
   ],
   "source": [
    "import argparse\n",
    "import os\n",
    "import time\n",
    "\n",
    "import matplotlib\n",
    "import matplotlib.pyplot as plt\n",
    "import numpy as np\n",
    "\n",
    "import torch\n",
    "from torchvision import transforms, datasets\n",
    "\n",
    "from jax.numpy.fft import irfft, rfft, fft, ifft\n",
    "\n",
    "from jax import grad, jit, vmap\n",
    "import jax.numpy as jnp\n",
    "import jax.random as random\n",
    "import jax\n",
    "\n",
    "!pip install numpyro\n",
    "import numpyro\n",
    "from numpyro import handlers\n",
    "import numpyro.distributions as dist\n",
    "from numpyro.infer import MCMC, NUTS\n",
    "import numpyro.contrib.module as module\n",
    "\n",
    "!pip install -q flax\n",
    "from flax import linen as nn\n",
    "\n",
    "\n",
    "\n",
    "print(torch.backends.cudnn.version())\n",
    "\n",
    "\n",
    "matplotlib.use(\"Agg\")  # noqa: E402\n",
    "np.random.seed(0)\n",
    "key = numpyro.prng_key()\n",
    "numpyro.set_host_device_count(4)"
   ]
  },
  {
   "cell_type": "code",
   "execution_count": 2,
   "metadata": {
    "tags": [],
    "ExecuteTime": {
     "end_time": "2023-06-18T11:41:49.975036116Z",
     "start_time": "2023-06-18T11:41:48.922585335Z"
    }
   },
   "outputs": [
    {
     "name": "stdout",
     "output_type": "stream",
     "text": [
      "[gpu(id=0)]\n"
     ]
    }
   ],
   "source": [
    "print(jax.devices(backend='gpu'))"
   ]
  },
  {
   "cell_type": "code",
   "execution_count": 3,
   "metadata": {
    "id": "Hu9LZWJPCGh1",
    "tags": [],
    "ExecuteTime": {
     "end_time": "2023-06-18T11:41:49.979144599Z",
     "start_time": "2023-06-18T11:41:49.977608775Z"
    }
   },
   "outputs": [],
   "source": [
    "def numpy_collate(batch):\n",
    "  if isinstance(batch[0], np.ndarray):\n",
    "    return np.stack(batch)\n",
    "  elif isinstance(batch[0], (tuple,list)):\n",
    "    transposed = zip(*batch)\n",
    "    return [numpy_collate(samples) for samples in transposed]\n",
    "  else:\n",
    "    return np.array(batch)\n",
    "\n",
    "\n",
    "class NumpyLoader(torch.utils.data.DataLoader):\n",
    "  def __init__(self, dataset, batch_size=1,\n",
    "                shuffle=False, sampler=None,\n",
    "                batch_sampler=None, num_workers=0,\n",
    "                pin_memory=False, drop_last=False,\n",
    "                timeout=0, worker_init_fn=None):\n",
    "    super(self.__class__, self).__init__(dataset,\n",
    "        batch_size=batch_size,\n",
    "        shuffle=shuffle,\n",
    "        sampler=sampler,\n",
    "        batch_sampler=batch_sampler,\n",
    "        num_workers=num_workers,\n",
    "        collate_fn=numpy_collate,\n",
    "        pin_memory=pin_memory,\n",
    "        drop_last=drop_last,\n",
    "        timeout=timeout,\n",
    "        worker_init_fn=worker_init_fn)\n",
    "\n",
    "class FlattenAndCast(object):\n",
    "  def __call__(self, pic):\n",
    "    return np.ravel(np.array(pic, dtype=jnp.float32))"
   ]
  },
  {
   "cell_type": "code",
   "execution_count": 4,
   "metadata": {
    "id": "KKqyhf6UCIFw",
    "tags": [],
    "ExecuteTime": {
     "end_time": "2023-06-18T11:41:50.078480554Z",
     "start_time": "2023-06-18T11:41:49.980601574Z"
    }
   },
   "outputs": [],
   "source": [
    "def get_mnist(n, m):\n",
    "    \"\"\"\n",
    "    Download MNIST and return train and evaluation sets.\n",
    "    \"\"\"\n",
    "    mnist = datasets.MNIST('data',\n",
    "        train=True,\n",
    "        download=True,\n",
    "        transform=FlattenAndCast())\n",
    "    mnist = list(mnist)\n",
    "    # One batch with all of mnist\n",
    "    train_loader = NumpyLoader(mnist, batch_size=len(mnist), num_workers=0)\n",
    "    x, y = list(train_loader)[0]\n",
    "    # Normalize\n",
    "    x = (x - x.mean()) / x.std()\n",
    "    # Train and test set\n",
    "    train_x, train_y = x[0:n], y[0:n]\n",
    "    val_x, val_y = x[n:n+m], y[n:n+m]\n",
    "    return train_x, train_y, val_x, val_y"
   ]
  },
  {
   "cell_type": "code",
   "execution_count": 5,
   "metadata": {
    "id": "CvNmAUrFCKOi",
    "tags": [],
    "ExecuteTime": {
     "end_time": "2023-06-18T11:41:50.090931210Z",
     "start_time": "2023-06-18T11:41:50.080155729Z"
    }
   },
   "outputs": [],
   "source": [
    "class flax_CNN(nn.Module):\n",
    "    @nn.compact   \n",
    "    def __call__(self, x):\n",
    "        #print(x.shape)\n",
    "        x_length = x.shape[0]\n",
    "        x = nn.Conv(features = 8, kernel_size = (5,5),strides = (1,1), \n",
    "                   padding = (2,2), \n",
    "                   use_bias= False)(x)\n",
    "        x = nn.max_pool(x,window_shape=(2,2),strides = (2,2))\n",
    "        all_len = len(x.flatten())\n",
    "        x = x.reshape((x_length, int((all_len/x_length))))\n",
    "\n",
    "        return x\n"
   ]
  },
  {
   "cell_type": "code",
   "execution_count": 6,
   "metadata": {
    "colab": {
     "base_uri": "https://localhost:8080/"
    },
    "id": "gfmvSjGQCMNE",
    "outputId": "42e353bb-e1e2-43cb-e749-caf48374b4cf",
    "tags": [],
    "ExecuteTime": {
     "end_time": "2023-06-18T11:41:51.177493388Z",
     "start_time": "2023-06-18T11:41:50.091990654Z"
    }
   },
   "outputs": [],
   "source": [
    "_x, _y, _xv, _yv = get_mnist(50000,10000)\n",
    "\n",
    "# Training\n",
    "N=1000\n",
    "# Test\n",
    "M=200\n",
    "\n",
    "# Get the training and test data from the MNIST global variables\n",
    "x, y, xv, yv = _x[0:N], _y[0:N], _xv[N:N+M], _yv[N:N+M]\n"
   ]
  },
  {
   "cell_type": "code",
   "execution_count": 66,
   "metadata": {
    "colab": {
     "base_uri": "https://localhost:8080/"
    },
    "id": "Ip2VF9VjCNUp",
    "outputId": "8d33bd52-dc07-4201-827b-5285c1ca5f59",
    "tags": [],
    "ExecuteTime": {
     "end_time": "2023-06-18T17:52:53.642848892Z",
     "start_time": "2023-06-18T17:52:53.520543246Z"
    }
   },
   "outputs": [
    {
     "ename": "AttributeError",
     "evalue": "\"flax_CNN\" object has no attribute \"kernel\". If \"kernel\" is defined in '.setup()', remember these fields are only accessible from inside 'init' or 'apply'.",
     "output_type": "error",
     "traceback": [
      "\u001B[0;31m---------------------------------------------------------------------------\u001B[0m",
      "\u001B[0;31mAttributeError\u001B[0m                            Traceback (most recent call last)",
      "Cell \u001B[0;32mIn[66], line 10\u001B[0m\n\u001B[1;32m      7\u001B[0m rng_key \u001B[38;5;241m=\u001B[39m random\u001B[38;5;241m.\u001B[39mPRNGKey(\u001B[38;5;241m1\u001B[39m)\n\u001B[1;32m      9\u001B[0m tab \u001B[38;5;241m=\u001B[39m conv\u001B[38;5;241m.\u001B[39mtabulate(jax\u001B[38;5;241m.\u001B[39mrandom\u001B[38;5;241m.\u001B[39mPRNGKey(\u001B[38;5;241m0\u001B[39m), x\u001B[38;5;241m.\u001B[39mreshape((\u001B[38;5;241m-\u001B[39m\u001B[38;5;241m1\u001B[39m,\u001B[38;5;241m28\u001B[39m,\u001B[38;5;241m28\u001B[39m,\u001B[38;5;241m1\u001B[39m)))\n\u001B[0;32m---> 10\u001B[0m \u001B[38;5;28mprint\u001B[39m(\u001B[43mconv\u001B[49m\u001B[38;5;241;43m.\u001B[39;49m\u001B[43mkernel\u001B[49m)\n",
      "File \u001B[0;32m~/anaconda3/envs/jax/lib/python3.9/site-packages/flax/linen/module.py:941\u001B[0m, in \u001B[0;36mModule.__getattr__\u001B[0;34m(self, name)\u001B[0m\n\u001B[1;32m    938\u001B[0m \u001B[38;5;28;01mif\u001B[39;00m \u001B[38;5;28mself\u001B[39m\u001B[38;5;241m.\u001B[39mscope \u001B[38;5;129;01mis\u001B[39;00m \u001B[38;5;28;01mNone\u001B[39;00m:\n\u001B[1;32m    939\u001B[0m   msg \u001B[38;5;241m+\u001B[39m\u001B[38;5;241m=\u001B[39m (\u001B[38;5;124mf\u001B[39m\u001B[38;5;124m'\u001B[39m\u001B[38;5;124m If \u001B[39m\u001B[38;5;124m\"\u001B[39m\u001B[38;5;132;01m{\u001B[39;00mname\u001B[38;5;132;01m}\u001B[39;00m\u001B[38;5;124m\"\u001B[39m\u001B[38;5;124m is defined in \u001B[39m\u001B[38;5;130;01m\\'\u001B[39;00m\u001B[38;5;124m.setup()\u001B[39m\u001B[38;5;130;01m\\'\u001B[39;00m\u001B[38;5;124m, remember these fields \u001B[39m\u001B[38;5;124m'\u001B[39m\n\u001B[1;32m    940\u001B[0m     \u001B[38;5;124m'\u001B[39m\u001B[38;5;124mare only accessible from inside \u001B[39m\u001B[38;5;130;01m\\'\u001B[39;00m\u001B[38;5;124minit\u001B[39m\u001B[38;5;130;01m\\'\u001B[39;00m\u001B[38;5;124m or \u001B[39m\u001B[38;5;130;01m\\'\u001B[39;00m\u001B[38;5;124mapply\u001B[39m\u001B[38;5;130;01m\\'\u001B[39;00m\u001B[38;5;124m.\u001B[39m\u001B[38;5;124m'\u001B[39m)\n\u001B[0;32m--> 941\u001B[0m \u001B[38;5;28;01mraise\u001B[39;00m \u001B[38;5;167;01mAttributeError\u001B[39;00m(msg)\n",
      "\u001B[0;31mAttributeError\u001B[0m: \"flax_CNN\" object has no attribute \"kernel\". If \"kernel\" is defined in '.setup()', remember these fields are only accessible from inside 'init' or 'apply'."
     ]
    }
   ],
   "source": [
    "dim1 = 256\n",
    "dim2 = 128\n",
    "key = random.PRNGKey(0)\n",
    "conv = flax_CNN() #from (200,28,28) to (200, 1568)\n",
    "conv.init(key,x.reshape(x.shape[0],28,28,1))\n",
    "\n",
    "rng_key = random.PRNGKey(1)\n",
    "\n",
    "tab = conv.tabulate(jax.random.PRNGKey(0), x.reshape((-1,28,28,1)))\n",
    "print(conv.kernel)\n"
   ]
  },
  {
   "cell_type": "code",
   "execution_count": 8,
   "metadata": {
    "id": "B9ZwnElxCP2Z",
    "tags": [],
    "ExecuteTime": {
     "end_time": "2023-06-18T11:41:54.688029975Z",
     "start_time": "2023-06-18T11:41:54.686276916Z"
    }
   },
   "outputs": [],
   "source": [
    "def circ_matmul(x, w, output_size):\n",
    "    # xw = fft(fft(w)*ifft(x)).real\n",
    "    # Note the use of the n argument to get right output shape\n",
    "    xw = irfft(jnp.conj(rfft(w)) * rfft(x), n=output_size)\n",
    "    #xw = irfft(torch.conj(rfft(w)) * rfft(x), n=w.shape[0])\n",
    "\n",
    "    return xw"
   ]
  },
  {
   "cell_type": "code",
   "execution_count": 9,
   "metadata": {
    "id": "qmk0rGrVCQ90",
    "tags": [],
    "ExecuteTime": {
     "end_time": "2023-06-18T11:41:54.700841196Z",
     "start_time": "2023-06-18T11:41:54.689330735Z"
    }
   },
   "outputs": [],
   "source": [
    "# the non-linearity we use in our neural network\n",
    "def nonlin(x):\n",
    "    return jnp.tanh(x)"
   ]
  },
  {
   "cell_type": "code",
   "execution_count": 10,
   "metadata": {
    "tags": [],
    "ExecuteTime": {
     "end_time": "2023-06-18T11:41:54.723737149Z",
     "start_time": "2023-06-18T11:41:54.702291617Z"
    }
   },
   "outputs": [],
   "source": [
    "def circ_conv(x, w,input_size, output_size):\n",
    "    out = irfft(jnp.conj(rfft(w)) * rfft(x), n=output_size)\n",
    "    print(out.shape)\n",
    "    return out\n",
    "    "
   ]
  },
  {
   "cell_type": "code",
   "execution_count": 11,
   "metadata": {
    "tags": [],
    "ExecuteTime": {
     "end_time": "2023-06-18T11:41:54.984439796Z",
     "start_time": "2023-06-18T11:41:54.712459026Z"
    }
   },
   "outputs": [
    {
     "name": "stdout",
     "output_type": "stream",
     "text": [
      "(1, 1586)\n",
      "[[8.829421 8.829421 8.829421 ... 8.829421 8.829421 8.829421]]\n"
     ]
    }
   ],
   "source": [
    "out = circ_conv(x[0], jnp.ones([1, 784]), 784, 1586)\n",
    "print(out)"
   ]
  },
  {
   "cell_type": "code",
   "execution_count": 12,
   "metadata": {
    "id": "x1N4sDqtCSvJ",
    "tags": [],
    "ExecuteTime": {
     "end_time": "2023-06-18T11:41:54.995566067Z",
     "start_time": "2023-06-18T11:41:54.988396126Z"
    }
   },
   "outputs": [],
   "source": [
    "def model_circulant_all(x, y=None, dim1 = dim1, dim2 = dim2):\n",
    "    w1 = numpyro.sample(\"w1\", dist.Normal(0,1).expand([28*28]).to_event(1))\n",
    "    b1 = numpyro.sample(\"b1\", dist.Normal(0,1).expand([dim1]).to_event(1))\n",
    "\n",
    "    w2 = numpyro.sample(\"w2\", dist.Normal(0,1).expand([dim1]).to_event(1))\n",
    "    b2 = numpyro.sample(\"b2\", dist.Normal(0,1).expand([dim2]).to_event(1))\n",
    "\n",
    "\n",
    "    w3 = numpyro.sample(\"w3\", dist.Normal(0,1).expand([dim2,10]).to_event(2))\n",
    "    b3 = numpyro.sample(\"b3\", dist.Normal(0,1).expand([10]).to_event(1))    \n",
    "\n",
    "    # Convolution\n",
    "    # conv_numpyro = module.random_flax_module(\"conv\", conv, dist.Normal(0, 1), input_shape=((x.shape[0],28,28,1)), apply_rng=[key])\n",
    "    # init_variables = conv.init(key, x.reshape((x.shape[0],28,28,1)))\n",
    "    # cx = nonlin(conv.apply(init_variables,x.reshape((x.shape[0],28,28,1))))\n",
    "    \n",
    "    # w_conv = numpyro.sample(\"w_conv\", dist.Normal(0,1).expand([28*28]))\n",
    "    # cx = nonlin(circ_matmul(x, w_conv, 28*28))\n",
    "    #print(shape)\n",
    "\n",
    "    # Layer 1: dim1\n",
    "    h1 = circ_matmul(x.reshape(x.shape[0],28*28), w1, w1.shape[0])\n",
    "    h1 = nonlin(h1[:, 0:dim1] + b1)\n",
    "    # Layer 2: dim2\n",
    "    h2 = circ_matmul(h1, w2, w2.shape[0])\n",
    "    h2 = nonlin(h2[:, 0:dim2] + b2)\n",
    "\n",
    "    # Layer 3: dim=10 (logits)\n",
    "    h3 = jnp.matmul(h2,w3) + b3\n",
    "    # Register the logits for easy prediction\n",
    "    numpyro.deterministic(\"logits\", h3)\n",
    "\n",
    "    # Likelihood\n",
    "\n",
    "    with numpyro.plate(\"labels\", x.shape[0]):\n",
    "        y_obs = numpyro.sample(\"y_obs\", dist.CategoricalLogits(logits=h3),\n",
    "                               obs=y, rng_key=key)"
   ]
  },
  {
   "cell_type": "code",
   "execution_count": 13,
   "outputs": [],
   "source": [
    "def model_circulant_weight(x, y=None, dim1 = dim1, dim2 = dim2):\n",
    "    w1 = numpyro.sample(\"w1\", dist.Normal(0,1).expand([28*28*2]).to_event(1))\n",
    "    b1 = numpyro.sample(\"b1\", dist.Normal(0,1).expand([dim1]).to_event(1))\n",
    "\n",
    "    w2 = numpyro.sample(\"w2\", dist.Normal(0,1).expand([dim1]).to_event(1))\n",
    "    b2 = numpyro.sample(\"b2\", dist.Normal(0,1).expand([dim2]).to_event(1))\n",
    "\n",
    "\n",
    "    w3 = numpyro.sample(\"w3\", dist.Normal(0,1).expand([dim2,10]).to_event(2))\n",
    "    b3 = numpyro.sample(\"b3\", dist.Normal(0,1).expand([10]).to_event(1))\n",
    "\n",
    "\n",
    "\n",
    "    # Convolution\n",
    "    # conv_numpyro = module.random_flax_module(\"conv\", conv, dist.Normal(0, 1), input_shape=((x.shape[0],28,28,1)), apply_rng=[key])\n",
    "    init_variables = conv.init(key, x.reshape((x.shape[0],28,28,1)))\n",
    "    cx = nonlin(conv.apply(init_variables,x.reshape((x.shape[0],28,28,1))))\n",
    "\n",
    "    # w_conv = numpyro.sample(\"w_conv\", dist.Normal(0,1).expand([28*28]))\n",
    "    # cx = nonlin(circ_matmul(x, w_conv, 28*28))\n",
    "    #print(shape)\n",
    "\n",
    "    # Layer 1: dim1\n",
    "    h1 = circ_matmul(cx, w1, w1.shape[0])\n",
    "    h1 = nonlin(h1[:, 0:dim1] + b1)\n",
    "    # Layer 2: dim2\n",
    "    h2 = circ_matmul(h1, w2, w2.shape[0])\n",
    "    h2 = nonlin(h2[:, 0:dim2] + b2)\n",
    "\n",
    "    # Layer 3: dim=10 (logits)\n",
    "    h3 = jnp.matmul(h2,w3) + b3\n",
    "    # Register the logits for easy prediction\n",
    "    numpyro.deterministic(\"logits\", h3)\n",
    "\n",
    "    # Likelihood\n",
    "\n",
    "    with numpyro.plate(\"labels\", x.shape[0]):\n",
    "        y_obs = numpyro.sample(\"y_obs\", dist.CategoricalLogits(logits=h3),\n",
    "                               obs=y, rng_key=key)"
   ],
   "metadata": {
    "collapsed": false,
    "ExecuteTime": {
     "end_time": "2023-06-18T11:41:55.006575752Z",
     "start_time": "2023-06-18T11:41:54.994585621Z"
    }
   }
  },
  {
   "cell_type": "code",
   "execution_count": 14,
   "metadata": {
    "id": "0b5cQ8cVKasn",
    "tags": [],
    "ExecuteTime": {
     "end_time": "2023-06-18T11:41:55.030971305Z",
     "start_time": "2023-06-18T11:41:55.008134716Z"
    }
   },
   "outputs": [],
   "source": [
    "def model_full_weight(x, y=None):\n",
    "  w1_full = numpyro.sample(\"w1\", dist.Normal(0,1).expand([2*28*28,dim1]).to_event(1)) #weight matrix dimension: (indim(1568), h1dim(dim1 128))\n",
    "  b1_full = numpyro.sample(\"b1\", dist.Normal(0,1).expand([dim1]).to_event(1)) # bias dimension: (128,)\n",
    "\n",
    "  w2_full = numpyro.sample(\"w2\", dist.Normal(0,1).expand([dim1,dim2]).to_event(1)) #weight matrix dimension: (h1dim(dim1), h2dim(dim2))\n",
    "  b2_full = numpyro.sample(\"b2\", dist.Normal(0,1).expand([dim2]).to_event(1)) # bias dimension: (dim2,)\n",
    "\n",
    "  w3_full = numpyro.sample(\"w3\", dist.Normal(0,1).expand([dim2,10]).to_event(2)) #weight matrix dimension: (h2dim(dim2), outdim(10))\n",
    "  b3_full = numpyro.sample(\"b3\", dist.Normal(0,1).expand([10]).to_event(1)) # bias dimension: (outdim(10))\n",
    "\n",
    "\n",
    "\n",
    "  # conv_numpyro = module.random_flax_module(\"conv_full\", conv, dist.Normal(0, 1), input_shape=((x.shape[0],28,28,1)))\n",
    "  # cx = nonlin(conv.apply(x.reshape((-1,28,28,1))))\n",
    "  init_variables = conv.init(key, x.reshape((x.shape[0],28,28,1)))\n",
    "  cx = nonlin(conv.apply(init_variables,x.reshape((x.shape[0],28,28,1))))\n",
    "\n",
    "  h1 = nonlin(jnp.matmul(cx,w1_full) + b1_full)\n",
    "\n",
    "  h2 = nonlin(jnp.matmul(h1,w2_full) + b2_full)\n",
    "\n",
    "  h3 = jnp.matmul(h2,w3_full) + b3_full\n",
    "\n",
    "  # Register the logits for easy prediction\n",
    "  numpyro.deterministic(\"logits_full\", h3)\n",
    "\n",
    "\n",
    "  # Likelihood\n",
    "\n",
    "  with numpyro.plate(\"labels_full\", x.shape[0]):\n",
    "      y_obs_f = numpyro.sample(\"y_obs_full\", dist.CategoricalLogits(logits = h3), obs = y, rng_key=key)\n",
    "\n",
    "\n"
   ]
  },
  {
   "cell_type": "code",
   "execution_count": 15,
   "metadata": {
    "ExecuteTime": {
     "end_time": "2023-06-18T11:41:55.062943719Z",
     "start_time": "2023-06-18T11:41:55.018486774Z"
    }
   },
   "outputs": [],
   "source": [
    "# The point estimate model common neural network\n",
    "\n",
    "class CNN(torch.nn.Module):\n",
    "    def __init__(self):\n",
    "        super().__init__()\n",
    "        self.conv = torch.nn.Conv2d(\n",
    "                in_channels=1,\n",
    "                out_channels=8,\n",
    "                kernel_size=5,\n",
    "                stride=1,\n",
    "                padding=2,\n",
    "                bias = False\n",
    "            )\n",
    "        # Lift to Pyro\n",
    "        self.maxp = torch.nn.MaxPool2d(2)\n",
    "        self.fc = torch.nn.Sequential(torch.nn.Linear(in_features=2*28*28, out_features=dim1), torch.nn.Tanh(), \n",
    "                                      torch.nn.Linear(in_features= dim1, out_features=dim2), torch.nn.Tanh(), \n",
    "                                      torch.nn.Linear(in_features = dim2, out_features=10), torch.nn.Tanh())\n",
    "\n",
    "    def forward(self, x):\n",
    "        cx = self.conv(x)\n",
    "        px = self.maxp(cx)\n",
    "        fx = torch.flatten(px, 1)\n",
    "        x_output = self.fc(fx)\n",
    "        return x_output\n"
   ]
  },
  {
   "cell_type": "code",
   "execution_count": 16,
   "metadata": {
    "tags": [],
    "ExecuteTime": {
     "end_time": "2023-06-18T11:41:55.063375408Z",
     "start_time": "2023-06-18T11:41:55.059173844Z"
    }
   },
   "outputs": [
    {
     "data": {
      "text/plain": "1"
     },
     "execution_count": 16,
     "metadata": {},
     "output_type": "execute_result"
    }
   ],
   "source": [
    "jax.local_device_count()"
   ]
  },
  {
   "cell_type": "code",
   "execution_count": 17,
   "outputs": [
    {
     "name": "stderr",
     "output_type": "stream",
     "text": [
      "/tmp/ipykernel_2447446/448459284.py:7: UserWarning: There are not enough devices to run parallel chains: expected 2 but got 1. Chains will be drawn sequentially. If you are running MCMC in CPU, consider using `numpyro.set_host_device_count(2)` at the beginning of your program. You can double-check how many devices are available in your system using `jax.local_device_count()`.\n",
      "  mcmc_all_cir = MCMC(kernel_all_cir,\n",
      "sample: 100%|██████████| 150/150 [05:56<00:00,  2.38s/it, 1023 steps of size 3.85e-03. acc. prob=0.72]\n",
      "sample: 100%|██████████| 150/150 [08:25<00:00,  3.37s/it, 1023 steps of size 3.46e-03. acc. prob=0.81]\n"
     ]
    },
    {
     "name": "stdout",
     "output_type": "stream",
     "text": [
      "CPU times: user 11min 51s, sys: 2min 35s, total: 14min 27s\n",
      "Wall time: 14min 30s\n"
     ]
    }
   ],
   "source": [
    "# train the only circulant model\n",
    "kernel_all_cir = NUTS(model_circulant_all,\n",
    "              target_accept_prob = 0.8,\n",
    "              max_tree_depth = 12\n",
    "              )\n",
    "\n",
    "mcmc_all_cir = MCMC(kernel_all_cir,\n",
    "            num_samples = 100,\n",
    "            num_warmup = 50,\n",
    "            num_chains = 2,\n",
    "            progress_bar = True)\n",
    "\n",
    "%time mcmc_all_cir.run(random.PRNGKey(0), x,y)"
   ],
   "metadata": {
    "collapsed": false,
    "ExecuteTime": {
     "end_time": "2023-06-18T11:56:25.191673681Z",
     "start_time": "2023-06-18T11:41:55.059304352Z"
    }
   }
  },
  {
   "cell_type": "code",
   "execution_count": 18,
   "metadata": {
    "colab": {
     "base_uri": "https://localhost:8080/"
    },
    "id": "SxaB3q9g-e0N",
    "outputId": "c44fe55c-d96d-42b9-fbb6-24b3ec331a2b",
    "tags": [],
    "ExecuteTime": {
     "end_time": "2023-06-18T12:15:17.232690438Z",
     "start_time": "2023-06-18T11:56:25.192293355Z"
    }
   },
   "outputs": [
    {
     "name": "stderr",
     "output_type": "stream",
     "text": [
      "/tmp/ipykernel_2447446/4010415144.py:8: UserWarning: There are not enough devices to run parallel chains: expected 2 but got 1. Chains will be drawn sequentially. If you are running MCMC in CPU, consider using `numpyro.set_host_device_count(2)` at the beginning of your program. You can double-check how many devices are available in your system using `jax.local_device_count()`.\n",
      "  mcmc = MCMC(kernel,\n",
      "sample: 100%|██████████| 150/150 [11:27<00:00,  4.58s/it, 2047 steps of size 2.38e-03. acc. prob=0.96]\n",
      "sample: 100%|██████████| 150/150 [07:21<00:00,  2.94s/it, 1023 steps of size 4.31e-03. acc. prob=0.71]\n"
     ]
    },
    {
     "name": "stdout",
     "output_type": "stream",
     "text": [
      "CPU times: user 15min 45s, sys: 3min 6s, total: 18min 51s\n",
      "Wall time: 18min 52s\n"
     ]
    }
   ],
   "source": [
    "# train the circulant matrix model\n",
    "\n",
    "kernel = NUTS(model_circulant_weight,\n",
    "              target_accept_prob = 0.8,\n",
    "              max_tree_depth = 12\n",
    "              )\n",
    "\n",
    "mcmc = MCMC(kernel,\n",
    "            num_samples = 100,\n",
    "            num_warmup = 50,\n",
    "            num_chains = 2,\n",
    "            progress_bar = True)\n",
    "\n",
    "%time mcmc.run(random.PRNGKey(0), x,y)"
   ]
  },
  {
   "cell_type": "code",
   "execution_count": 19,
   "metadata": {
    "colab": {
     "base_uri": "https://localhost:8080/"
    },
    "id": "sKsFyO0kCUNg",
    "outputId": "5d3ba65a-016d-4747-af7c-b123fc123736",
    "ExecuteTime": {
     "end_time": "2023-06-18T13:01:51.549341147Z",
     "start_time": "2023-06-18T12:15:17.239597173Z"
    }
   },
   "outputs": [
    {
     "name": "stderr",
     "output_type": "stream",
     "text": [
      "/tmp/ipykernel_2447446/3519133610.py:7: UserWarning: There are not enough devices to run parallel chains: expected 2 but got 1. Chains will be drawn sequentially. If you are running MCMC in CPU, consider using `numpyro.set_host_device_count(2)` at the beginning of your program. You can double-check how many devices are available in your system using `jax.local_device_count()`.\n",
      "  mcmc_all_full = MCMC(kernel_all_full,\n",
      "sample: 100%|██████████| 150/150 [23:11<00:00,  9.28s/it, 4095 steps of size 1.75e-03. acc. prob=0.61]\n",
      "sample: 100%|██████████| 150/150 [23:19<00:00,  9.33s/it, 4095 steps of size 8.66e-04. acc. prob=0.81]\n"
     ]
    },
    {
     "name": "stdout",
     "output_type": "stream",
     "text": [
      "CPU times: user 39min 28s, sys: 7min 5s, total: 46min 34s\n",
      "Wall time: 46min 34s\n"
     ]
    }
   ],
   "source": [
    "# Train the full weight matrix model\n",
    "kernel_all_full = NUTS(model_full_weight,\n",
    "              target_accept_prob = 0.8,\n",
    "              max_tree_depth = 12\n",
    "              )\n",
    "\n",
    "mcmc_all_full = MCMC(kernel_all_full,\n",
    "            num_samples = 100,\n",
    "            num_warmup = 50,\n",
    "            num_chains = 2,\n",
    "            progress_bar = True)\n",
    "\n",
    "%time mcmc_all_full.run(random.PRNGKey(1), x, y)"
   ]
  },
  {
   "cell_type": "code",
   "execution_count": 20,
   "metadata": {
    "tags": [],
    "ExecuteTime": {
     "end_time": "2023-06-18T13:01:53.528107501Z",
     "start_time": "2023-06-18T13:01:51.565486368Z"
    }
   },
   "outputs": [
    {
     "name": "stdout",
     "output_type": "stream",
     "text": [
      "torch.Size([1000, 1, 28, 28])\n"
     ]
    }
   ],
   "source": [
    "# Train the point estimation mmodel\n",
    "\n",
    "def get_mnist_torch(n, m):\n",
    "    \"\"\"\n",
    "    Download MNIST and return train and evaluation sets.\n",
    "    \"\"\"\n",
    "    img_to_tensor = transforms.ToTensor()\n",
    "    mnist = datasets.MNIST('data',\n",
    "        train=True,\n",
    "        download=True,\n",
    "        transform=img_to_tensor)\n",
    "    mnist = list(mnist)\n",
    "    # One batch with all of mnist\n",
    "    train_loader = torch.utils.data.DataLoader(mnist,\n",
    "        batch_size=len(mnist),\n",
    "        shuffle=True)\n",
    "    # x = images tensor, y = labels tensor \n",
    "    x, y = list(train_loader)[0]\n",
    "    # Flatten images\n",
    "    x = x.view(-1, 28*28)\n",
    "    # Normalize\n",
    "    x = (x - x.mean()) / x.std()\n",
    "    # Train and test set\n",
    "    train_x, train_y = x[0:n], y[0:n]\n",
    "    val_x, val_y = x[n:n+m], y[n:n+m]\n",
    "    return train_x, train_y, val_x, val_y\n",
    "\n",
    "#evice = torch.device.device\n",
    "#print(device)\n",
    "\n",
    "device = torch.device(\"cuda\" if torch.cuda.is_available() else \"cpu\")\n",
    "\n",
    "def train_point_estimation(model, dataloader, criterion, optimizer, num_epochs):\n",
    "    model.to(device)\n",
    "    loss_list = []\n",
    "    for epoch in range(num_epochs):\n",
    "        epoch_loss = 0.0\n",
    "        for _, (data, label) in enumerate(dataloader):\n",
    "\n",
    "            data = data.to(device)\n",
    "            labels = label.to(device)\n",
    "            model.zero_grad()\n",
    "            outputs = model(data)\n",
    "            loss = criterion(outputs, labels)\n",
    "            loss.backward()\n",
    "            optimizer.step()\n",
    "            epoch_loss += loss.item()\n",
    "        # Print the average loss at every epoch\n",
    "        average_loss = epoch_loss / (len(dataloader))\n",
    "        loss_list.append(average_loss)\n",
    "        if (epoch + 1) % 10 == 0:\n",
    "            print(f'Epoch: {epoch + 1}, Average Loss: {average_loss}')\n",
    "    torch.save(model, \"cnn.pth\")\n",
    "    return loss_list\n",
    "\n",
    "point_estimate_model = CNN()\n",
    "x_torch, y_torch, xv_torch, yv_torch = get_mnist_torch(N,M)\n",
    "\n",
    "x_torch = x_torch.view((-1,1,28,28))\n",
    "print(x_torch.shape)\n",
    "xv_torch = xv_torch.view((-1,1,28,28))\n",
    "\n",
    "\n",
    "train_set = torch.utils.data.TensorDataset(x_torch,y_torch)\n",
    "test_set = torch.utils.data.TensorDataset(xv_torch,yv_torch)\n",
    "\n",
    "train_loader = torch.utils.data.DataLoader(train_set, shuffle = True, batch_size = 1)\n",
    "\n",
    "test_loader = torch.utils.data.DataLoader(test_set, shuffle = True, batch_size = 1)\n",
    "\n",
    "criterion = torch.nn.CrossEntropyLoss()\n",
    "optimizer = torch.optim.Adam(point_estimate_model.parameters(), lr = 0.001)\n",
    "\n",
    "#loss_list_point_estimation = train_point_estimation(point_estimate_model,train_loader, criterion, optimizer, 100)\n",
    "\n",
    "\n"
   ]
  },
  {
   "cell_type": "code",
   "execution_count": 21,
   "outputs": [],
   "source": [
    "# get posterior and prediction of the all circular model\n",
    "\n",
    "posterior_samples_all_cir = mcmc_all_cir.get_samples()\n",
    "\n",
    "\n",
    "posterior_predictive_test_all_cir = numpyro.infer.Predictive(model_circulant_all, posterior_samples_all_cir)(\n",
    "    jax.random.PRNGKey(3),xv)\n",
    "\n",
    "posterior_predictive_train_all_cir = numpyro.infer.Predictive(model_circulant_all, posterior_samples_all_cir)(\n",
    "    jax.random.PRNGKey(3),x)\n",
    "\n",
    "prior_predictive_all_cir = numpyro.infer.Predictive(model_circulant_all, num_samples=500)(\n",
    "    jax.random.PRNGKey(3),xv)"
   ],
   "metadata": {
    "collapsed": false,
    "ExecuteTime": {
     "end_time": "2023-06-18T13:01:55.249223489Z",
     "start_time": "2023-06-18T13:01:53.531076119Z"
    }
   }
  },
  {
   "cell_type": "code",
   "execution_count": 22,
   "metadata": {
    "colab": {
     "base_uri": "https://localhost:8080/",
     "height": 249
    },
    "id": "5LlrMZnPRiVt",
    "outputId": "5400cb48-112d-4147-aa98-f639b3b4dd6a",
    "ExecuteTime": {
     "end_time": "2023-06-18T13:01:57.255973937Z",
     "start_time": "2023-06-18T13:01:55.250567795Z"
    }
   },
   "outputs": [],
   "source": [
    "# get posterior and prediction of the circular weight matrix model\n",
    "\n",
    "posterior_samples = mcmc.get_samples()\n",
    "\n",
    "\n",
    "posterior_predictive_test = numpyro.infer.Predictive(model_circulant_weight, posterior_samples)(\n",
    "        jax.random.PRNGKey(3),xv)\n",
    "\n",
    "posterior_predictive_train = numpyro.infer.Predictive(model_circulant_weight, posterior_samples)(\n",
    "        jax.random.PRNGKey(3),x)\n",
    "\n",
    "prior_predictive = numpyro.infer.Predictive(model_circulant_weight, num_samples=500)(\n",
    "        jax.random.PRNGKey(3),xv)\n"
   ]
  },
  {
   "cell_type": "code",
   "execution_count": 23,
   "metadata": {
    "id": "aW437_KjCcBA",
    "ExecuteTime": {
     "end_time": "2023-06-18T13:01:58.824209444Z",
     "start_time": "2023-06-18T13:01:57.257903363Z"
    }
   },
   "outputs": [],
   "source": [
    "# get posterior and prediction of the full weight matrix model\n",
    "\n",
    "posterior_samples_all_full = mcmc_all_full.get_samples()\n",
    "\n",
    "\n",
    "posterior_predictive_test_all_full = numpyro.infer.Predictive(model_full_weight, posterior_samples_all_full)(\n",
    "        jax.random.PRNGKey(3),xv)\n",
    "\n",
    "posterior_predictive_train_all_full = numpyro.infer.Predictive(model_full_weight, posterior_samples_all_full)(\n",
    "        jax.random.PRNGKey(3),x)\n",
    "\n",
    "prior_predictive_all_full = numpyro.infer.Predictive(model_full_weight, num_samples=500)(\n",
    "        jax.random.PRNGKey(3),xv)"
   ]
  },
  {
   "cell_type": "code",
   "execution_count": 24,
   "metadata": {
    "colab": {
     "base_uri": "https://localhost:8080/"
    },
    "id": "6G-VFAvFZoFA",
    "outputId": "4198e197-74bc-437a-809a-2608d079961e",
    "ExecuteTime": {
     "end_time": "2023-06-18T13:01:59.266168833Z",
     "start_time": "2023-06-18T13:01:58.825709634Z"
    }
   },
   "outputs": [],
   "source": [
    "import arviz as az\n",
    "az.style.use(\"arviz-doc\")"
   ]
  },
  {
   "cell_type": "code",
   "execution_count": 25,
   "metadata": {
    "id": "fF-Y7a1HhiPy",
    "ExecuteTime": {
     "end_time": "2023-06-18T13:01:59.269646590Z",
     "start_time": "2023-06-18T13:01:59.266484425Z"
    }
   },
   "outputs": [],
   "source": [
    "def accuracy(pred, data):\n",
    "    \"\"\"\n",
    "    Calculate accuracy of predicted labels (integers).\n",
    "\n",
    "    pred: predictions, ndarray[sample_index, chain_index, data_index, logits]\n",
    "    data: actual data (digit), ndarray[data_index]\n",
    "\n",
    "    Prediction is taken as most common predicted value.\n",
    "    Returns accuracy (#correct/#total).\n",
    "    \"\"\"\n",
    "    n=data.shape[0]\n",
    "    correct=0\n",
    "    total=0\n",
    "    for i in range(0, n):\n",
    "        # Get most common prediction value from logits\n",
    "        pred_i=int(jnp.argmax(jnp.sum(pred[:,i,:],0)))\n",
    "        # Compare prediction with data\n",
    "        if int(data[i])==int(pred_i):\n",
    "            correct+=1.0\n",
    "        total+=1.0\n",
    "    # Return fractional accuracy\n",
    "    return correct/total"
   ]
  },
  {
   "cell_type": "code",
   "execution_count": 26,
   "metadata": {
    "colab": {
     "base_uri": "https://localhost:8080/"
    },
    "id": "iuir-trcRt5m",
    "outputId": "ead3abba-ae8b-41e0-d077-4c6500a5bba1",
    "ExecuteTime": {
     "end_time": "2023-06-18T13:02:02.385365119Z",
     "start_time": "2023-06-18T13:01:59.271411274Z"
    }
   },
   "outputs": [
    {
     "name": "stdout",
     "output_type": "stream",
     "text": [
      "<xarray.Dataset>\n",
      "Dimensions:       (chain: 2, draw: 100, b1_dim_0: 256, b2_dim_0: 128,\n",
      "                   b3_dim_0: 10, logits_dim_0: 1000, logits_dim_1: 10,\n",
      "                   w1_dim_0: 1568, w2_dim_0: 256, w3_dim_0: 128, w3_dim_1: 10)\n",
      "Coordinates:\n",
      "  * chain         (chain) int64 0 1\n",
      "  * draw          (draw) int64 0 1 2 3 4 5 6 7 8 ... 91 92 93 94 95 96 97 98 99\n",
      "  * b1_dim_0      (b1_dim_0) int64 0 1 2 3 4 5 6 ... 249 250 251 252 253 254 255\n",
      "  * b2_dim_0      (b2_dim_0) int64 0 1 2 3 4 5 6 ... 121 122 123 124 125 126 127\n",
      "  * b3_dim_0      (b3_dim_0) int64 0 1 2 3 4 5 6 7 8 9\n",
      "  * logits_dim_0  (logits_dim_0) int64 0 1 2 3 4 5 6 ... 994 995 996 997 998 999\n",
      "  * logits_dim_1  (logits_dim_1) int64 0 1 2 3 4 5 6 7 8 9\n",
      "  * w1_dim_0      (w1_dim_0) int64 0 1 2 3 4 5 ... 1562 1563 1564 1565 1566 1567\n",
      "  * w2_dim_0      (w2_dim_0) int64 0 1 2 3 4 5 6 ... 249 250 251 252 253 254 255\n",
      "  * w3_dim_0      (w3_dim_0) int64 0 1 2 3 4 5 6 ... 121 122 123 124 125 126 127\n",
      "  * w3_dim_1      (w3_dim_1) int64 0 1 2 3 4 5 6 7 8 9\n",
      "Data variables:\n",
      "    b1            (chain, draw, b1_dim_0) float32 0.4783 -1.894 ... 0.5493\n",
      "    b2            (chain, draw, b2_dim_0) float32 0.6718 -1.567 ... 0.06433\n",
      "    b3            (chain, draw, b3_dim_0) float32 -0.987 0.7047 ... 0.8952\n",
      "    logits        (chain, draw, logits_dim_0, logits_dim_1) float32 -2.305 .....\n",
      "    w1            (chain, draw, w1_dim_0) float32 0.2577 0.9279 ... 0.2456\n",
      "    w2            (chain, draw, w2_dim_0) float32 -0.8253 -0.1569 ... 1.817\n",
      "    w3            (chain, draw, w3_dim_0, w3_dim_1) float32 -0.0265 ... 0.1177\n",
      "Attributes:\n",
      "    created_at:                 2023-06-18T13:02:00.292987\n",
      "    arviz_version:              0.15.1\n",
      "    inference_library:          numpyro\n",
      "    inference_library_version:  0.12.1\n",
      "<xarray.Dataset>\n",
      "Dimensions:   (w1_dim_0: 1568, w2_dim_0: 256, w3_dim_0: 128, w3_dim_1: 10)\n",
      "Coordinates:\n",
      "  * w1_dim_0  (w1_dim_0) int64 0 1 2 3 4 5 6 ... 1562 1563 1564 1565 1566 1567\n",
      "  * w2_dim_0  (w2_dim_0) int64 0 1 2 3 4 5 6 7 ... 249 250 251 252 253 254 255\n",
      "  * w3_dim_0  (w3_dim_0) int64 0 1 2 3 4 5 6 7 ... 121 122 123 124 125 126 127\n",
      "  * w3_dim_1  (w3_dim_1) int64 0 1 2 3 4 5 6 7 8 9\n",
      "Data variables:\n",
      "    w1        (w1_dim_0) float64 138.2 271.5 33.44 107.6 ... 67.46 99.27 82.39\n",
      "    w2        (w2_dim_0) float64 33.02 5.666 8.37 55.9 ... 16.65 4.811 56.8\n",
      "    w3        (w3_dim_0, w3_dim_1) float64 14.92 13.06 28.64 ... 261.2 127.9\n"
     ]
    }
   ],
   "source": [
    "# summary of circulant matrix model\n",
    "az.style.use(\"arviz-doc\")\n",
    "\n",
    "\n",
    "\n",
    "numpyro_data = az.from_numpyro(\n",
    "    mcmc,\n",
    "    prior=prior_predictive,\n",
    "    posterior_predictive=posterior_predictive_train,\n",
    "\n",
    ")\n",
    "post = numpyro_data.posterior\n",
    "print(post)\n",
    "w_ess = az.ess(post,var_names=['w1','w2','w3'])\n",
    "w_ess_lst = [w_ess.w1.values.flatten(),w_ess.w2.values.flatten(),w_ess.w3.values.flatten()]\n",
    "\n",
    "fig, ax = plt.subplots()\n",
    "\n",
    "ax.boxplot(w_ess_lst)\n",
    "plt.savefig(\"w_ess.png\")\n",
    "\n",
    "\n",
    "fig2, ax2 = plt.subplots()\n",
    "ax2.violinplot(w_ess_lst,\n",
    "                  showmeans=False,\n",
    "                  showmedians=True)\n",
    "plt.savefig(\"w_ess_vio.png\")\n",
    "\n",
    "\n",
    "\n",
    "# w_ess_med = w_ess.median(dim = ['w1_dim_0','w2_dim_0','w3_dim_0','w3_dim_1'])\n",
    "#w_ess_qutile = w_ess.quantile(q= , dim = ['w1_dim_0','w2_dim_0','w3_dim_0','w3_dim_1'])\n",
    "print(w_ess)\n",
    "\n",
    "\n",
    "# print(w_ess_lst)\n",
    "# print(w_ess.w3.values.flatten())\n",
    "# # print(w_ess_med)\n",
    "# print(post)"
   ]
  },
  {
   "cell_type": "code",
   "execution_count": 27,
   "outputs": [],
   "source": [
    "def plot_diags(inferdata, model_name):\n",
    "    plt.close('all')\n",
    "    post = inferdata.posterior\n",
    "\n",
    "    r_hat = az.rhat(post, var_names=['w1','w2','w3'])\n",
    "    r_hat_lst = [r_hat.w1.values.flatten(),r_hat.w2.values.flatten(),r_hat.w3.values.flatten()]\n",
    "    # print(r_hat)\n",
    "    fig1, ax1 = plt.subplots()\n",
    "    ax1.boxplot(r_hat_lst)\n",
    "    plt.savefig(\"r_hat_{}.png\".format(model_name))\n",
    "\n",
    "    w_ess = az.ess(post,var_names=['w1','w2','w3'])\n",
    "    w_ess_lst = [w_ess.w1.values.flatten(),w_ess.w2.values.flatten(),w_ess.w3.values.flatten()]\n",
    "\n",
    "\n",
    "    fig, ax = plt.subplots()\n",
    "    ax.boxplot(w_ess_lst)\n",
    "    plt.savefig(\"w_ess_{}.png\".format(model_name))\n",
    "\n",
    "\n",
    "    fig2, ax2 = plt.subplots()\n",
    "    ax2.violinplot(w_ess_lst,\n",
    "               showmeans=False,\n",
    "               showmedians=True)\n",
    "    plt.savefig(\"w_ess_vio_{}.png\".format(model_name))\n",
    "\n",
    "    az.plot_ppc(inferdata, data_pairs={\"obs\": \"obs\"}, alpha=0.03, textsize=14)\n",
    "    # plt.show()\n",
    "    plt.savefig(\"ppc_{}.png\".format(model_name))\n",
    "\n",
    "    return w_ess_lst\n"
   ],
   "metadata": {
    "collapsed": false,
    "ExecuteTime": {
     "end_time": "2023-06-18T13:02:02.391699363Z",
     "start_time": "2023-06-18T13:02:02.388426049Z"
    }
   }
  },
  {
   "cell_type": "code",
   "execution_count": 28,
   "outputs": [
    {
     "data": {
      "text/plain": "[array([155.77341835, 150.24534522, 182.84368972, ..., 151.19779148,\n         88.35897442,  90.83058298]),\n array([138.77785544, 119.31192123,  91.81359846, ..., 262.17116148,\n         85.92081197, 125.65311814]),\n array([ 93.16707823, 115.24246889,  74.42361195, ...,  11.5757246 ,\n        185.69616671, 111.70697826])]"
     },
     "execution_count": 28,
     "metadata": {},
     "output_type": "execute_result"
    }
   ],
   "source": [
    "plot_diags(numpyro_data,\"cir_weight\")\n",
    "\n",
    "\n",
    "numpyro_data_all_cir = az.from_numpyro(\n",
    "    mcmc_all_cir,\n",
    "    prior=prior_predictive_all_cir,\n",
    "    posterior_predictive=posterior_predictive_train_all_cir,\n",
    "\n",
    ")\n",
    "\n",
    "plot_diags(numpyro_data_all_cir, \"all_cir\")\n",
    "\n",
    "numpyro_data_all_full = az.from_numpyro(\n",
    "    mcmc_all_full,\n",
    "    prior=prior_predictive_all_full,\n",
    "    posterior_predictive=posterior_predictive_train_all_full,\n",
    "\n",
    ")\n",
    "\n",
    "plot_diags(numpyro_data_all_full, \"all_full\")"
   ],
   "metadata": {
    "collapsed": false,
    "ExecuteTime": {
     "end_time": "2023-06-18T13:06:23.959387116Z",
     "start_time": "2023-06-18T13:02:02.392655476Z"
    }
   }
  },
  {
   "cell_type": "code",
   "execution_count": 74,
   "outputs": [],
   "source": [
    "\n",
    "#summary = az.summary(numpyro_data)\n",
    "#calculate the parameter number of full weight model\n",
    "num_layer_1 = numpyro_data_all_full.posterior.w1.shape[2]*numpyro_data_all_full.posterior.w1.shape[3] + numpyro_data_all_full.posterior.b1.shape[2]\n",
    "num_layer_2 = numpyro_data_all_full.posterior.w2.shape[2]*numpyro_data_all_full.posterior.w2.shape[3] + numpyro_data_all_full.posterior.b2.shape[2]\n",
    "num_layer_3 = numpyro_data_all_full.posterior.w3.shape[2]*numpyro_data_all_full.posterior.w3.shape[3] + numpyro_data_all_full.posterior.b3.shape[2]\n",
    "total_num = num_layer_1+num_layer_2+num_layer_3\n",
    "\n",
    "def get_param_num(model, cnn=True, cir=False):\n",
    "    if cir:\n",
    "        num_layer_1 = model.posterior.w1.shape[2] + model.posterior.b1.shape[2]\n",
    "        num_layer_2 = model.posterior.w2.shape[2] + model.posterior.b2.shape[2]\n",
    "    else:\n",
    "        num_layer_1 = model.posterior.w1.shape[2]*model.posterior.w1.shape[3] + model.posterior.b1.shape[2]\n",
    "        num_layer_2 = model.posterior.w2.shape[2]*model.posterior.w2.shape[3] + model.posterior.b2.shape[2]\n",
    "    num_layer_3 = model.posterior.w3.shape[2]*model.posterior.w3.shape[3] + model.posterior.b3.shape[2]\n",
    "    total_num = num_layer_1+num_layer_2+num_layer_3\n",
    "    if cnn:\n",
    "        total_num = total_num + 200\n",
    "    return total_num\n"
   ],
   "metadata": {
    "collapsed": false,
    "ExecuteTime": {
     "end_time": "2023-06-18T18:13:34.199622718Z",
     "start_time": "2023-06-18T18:13:34.152716835Z"
    }
   }
  },
  {
   "cell_type": "code",
   "execution_count": 72,
   "outputs": [
    {
     "name": "stderr",
     "output_type": "stream",
     "text": [
      "/tmp/ipykernel_2447446/2024495077.py:10: UserWarning: Matplotlib is currently using agg, which is a non-GUI backend, so cannot show the figure.\n",
      "  plt.show()\n"
     ]
    }
   ],
   "source": [
    "\n",
    "# az.plot_ess(summary_data_circulant,var_names=('w1'), kind = 'evolution')\n",
    "# plt.savefig(\"posterior_sample.png\")\n",
    "# az.plot_trace(summary_data_circulant,var_names=(\"w1\"))\n",
    "# plt.savefig(\"trace_w1.png\")\n",
    "# az.plot_trace(summary_data_circulant,var_names=(\"w2\"))\n",
    "# plt.savefig(\"trace_w2.png\")\n",
    "# az.plot_trace(summary_data_circulant,var_names=(\"w3\"))\n",
    "# plt.savefig(\"trace_w3.png\")\n",
    "az.plot_ppc(numpyro_data, data_pairs={\"obs\": \"obs\"}, alpha=0.03, textsize=14)\n",
    "plt.show()\n",
    "plt.savefig(\"ppc.png\")"
   ],
   "metadata": {
    "collapsed": false,
    "ExecuteTime": {
     "end_time": "2023-06-18T18:02:26.462393721Z",
     "start_time": "2023-06-18T18:02:25.894177699Z"
    }
   }
  },
  {
   "cell_type": "code",
   "execution_count": 77,
   "outputs": [
    {
     "name": "stdout",
     "output_type": "stream",
     "text": [
      "number of parameters of cnn and circulant matrix model:  3698\n",
      "number of parameters of cnn and full weight matrix model:  436050\n",
      "number of parameters of only circulant matrix model:  2714\n"
     ]
    }
   ],
   "source": [
    "# calculate the number of parameters, w and b\n",
    "\n",
    "num_params = get_param_num(numpyro_data,cir=True)\n",
    "num_params_all_cir = get_param_num(numpyro_data_all_cir, False , cir=True)\n",
    "num_params_all_full = get_param_num(numpyro_data_all_full)\n",
    "\n",
    "print('number of parameters of cnn and circulant matrix model: ', num_params)\n",
    "print('number of parameters of cnn and full weight matrix model: ', num_params_all_full)\n",
    "print('number of parameters of only circulant matrix model: ', num_params_all_cir)"
   ],
   "metadata": {
    "collapsed": false,
    "ExecuteTime": {
     "end_time": "2023-06-18T18:32:32.929421688Z",
     "start_time": "2023-06-18T18:32:32.885290729Z"
    }
   }
  },
  {
   "cell_type": "code",
   "execution_count": 36,
   "outputs": [
    {
     "name": "stdout",
     "output_type": "stream",
     "text": [
      "Success posterior test = 0.920\n",
      "Success posterior training = 1.000\n",
      "Success prior = 0.105\n",
      "Posterior test diagnostics:\n",
      "\n",
      "                mean       std    median      5.0%     95.0%     n_eff     r_hat\n",
      "        b1      0.00      1.01      0.00     -1.67      1.64  52074.41      1.00\n",
      "        b2      0.00      1.00      0.01     -1.64      1.64  26165.44      1.00\n",
      "        b3     -0.01      0.98      0.01     -1.70      1.47   2842.25      0.99\n",
      " logits[0]     -1.89     14.50     -2.90    -26.89     22.27 159085.98      1.01\n",
      " logits[1]     -1.02     14.54     -2.52    -25.09     24.73 150428.94      1.01\n",
      " logits[2]     -0.55     15.47     -0.95    -26.90     25.25 180240.09      1.01\n",
      " logits[3]      0.35     13.78     -0.53    -22.91     23.16 188373.73      1.01\n",
      " logits[4]     -0.69     15.20     -1.71    -25.55     25.27 170207.91      1.01\n",
      " logits[5]      2.64     11.93      2.16    -17.28     22.35 148855.59      1.01\n",
      " logits[6]     -1.71     15.14     -2.50    -27.54     23.56 196587.91      1.01\n",
      " logits[7]     -2.83     17.31     -4.98    -31.06     27.36 191055.67      1.01\n",
      " logits[8]      3.14     11.56      2.66    -16.06     22.12  89346.95      1.01\n",
      " logits[9]      2.82     13.10      1.91    -18.51     24.94 161087.76      1.01\n",
      "        w1     -0.01      1.00     -0.01     -1.63      1.65 313346.30      1.00\n",
      "        w2     -0.02      0.98     -0.02     -1.60      1.60  46494.15      1.01\n",
      "     w3[0]     -0.02      1.00     -0.01     -1.69      1.62  24881.58      1.00\n",
      "     w3[1]     -0.07      0.99     -0.07     -1.70      1.56  23808.67      1.00\n",
      "     w3[2]      0.02      1.02      0.01     -1.62      1.71  26172.31      1.00\n",
      "     w3[3]      0.14      1.00      0.14     -1.52      1.80  25164.85      1.00\n",
      "     w3[4]      0.01      1.00      0.00     -1.61      1.66  25341.51      1.00\n",
      "     w3[5]     -0.06      1.02     -0.05     -1.78      1.55  25204.94      1.00\n",
      "     w3[6]     -0.13      0.98     -0.12     -1.82      1.42  24874.67      1.01\n",
      "     w3[7]      0.00      1.04     -0.00     -1.72      1.68  24794.40      1.00\n",
      "     w3[8]      0.03      0.97      0.02     -1.54      1.65  24713.43      1.00\n",
      "     w3[9]      0.06      0.98      0.07     -1.61      1.63  25351.50      1.00\n",
      "\n"
     ]
    }
   ],
   "source": [
    "# Accuracy on test set\n",
    "logits = posterior_predictive_test['logits']\n",
    "print(\"Success posterior test = %.3f\" % accuracy(logits, yv))\n",
    "\n",
    "# Accuracy on training set\n",
    "logits = posterior_predictive_train['logits']\n",
    "print(\"Success posterior training = %.3f\" % accuracy(logits, y))\n",
    "\n",
    "logits = prior_predictive['logits']\n",
    "print(\"Success prior = %.3f\" % accuracy(logits, yv))\n",
    "\n",
    "print(\"Posterior test diagnostics:\")\n",
    "numpyro.diagnostics.print_summary(posterior_samples)"
   ],
   "metadata": {
    "collapsed": false,
    "ExecuteTime": {
     "end_time": "2023-06-18T13:09:33.942849231Z",
     "start_time": "2023-06-18T13:09:30.403867087Z"
    }
   }
  },
  {
   "cell_type": "code",
   "execution_count": 37,
   "metadata": {
    "colab": {
     "base_uri": "https://localhost:8080/"
    },
    "id": "GP284gjyDB-E",
    "outputId": "79284346-f872-4cb6-f56c-e8c509f01ee9",
    "ExecuteTime": {
     "end_time": "2023-06-18T13:17:06.638708913Z",
     "start_time": "2023-06-18T13:17:03.601869735Z"
    }
   },
   "outputs": [
    {
     "name": "stdout",
     "output_type": "stream",
     "text": [
      "Success posterior test = 0.890\n",
      "Success posterior training = 1.000\n",
      "Success prior = 0.065\n"
     ]
    }
   ],
   "source": [
    "# summary of full weight matrix model\n",
    "\n",
    "\n",
    "\n",
    "# Accuracy on test set\n",
    "logits = posterior_predictive_test_all_full['logits_full']\n",
    "\n",
    "print(\"Success posterior test = %.3f\" % accuracy(logits, yv))\n",
    "\n",
    "# Accuracy on training set\n",
    "logits = posterior_predictive_train_all_full['logits_full']\n",
    "print(\"Success posterior training = %.3f\" % accuracy(logits, y))\n",
    "\n",
    "logits = prior_predictive_all_full['logits_full']\n",
    "print(\"Success prior = %.3f\" % accuracy(logits, yv))\n",
    "\n",
    "# print(\"Posterior test diagnostics:\")\n",
    "# numpyro.diagnostics.print_summary(posterior_samples_1)"
   ]
  },
  {
   "cell_type": "code",
   "execution_count": 35,
   "metadata": {
    "ExecuteTime": {
     "end_time": "2023-06-18T13:07:25.038339813Z",
     "start_time": "2023-06-18T13:07:25.029450853Z"
    }
   },
   "outputs": [],
   "source": [
    "#"
   ]
  }
 ],
 "metadata": {
  "accelerator": "GPU",
  "colab": {
   "gpuType": "T4",
   "provenance": []
  },
  "gpuClass": "standard",
  "kernelspec": {
   "name": "python3",
   "language": "python",
   "display_name": "Python 3 (ipykernel)"
  },
  "language_info": {
   "codemirror_mode": {
    "name": "ipython",
    "version": 3
   },
   "file_extension": ".py",
   "mimetype": "text/x-python",
   "name": "python",
   "nbconvert_exporter": "python",
   "pygments_lexer": "ipython3",
   "version": "3.9.16"
  }
 },
 "nbformat": 4,
 "nbformat_minor": 4
}
